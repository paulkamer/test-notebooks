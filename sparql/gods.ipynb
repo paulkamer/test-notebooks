{
 "cells": [
  {
   "cell_type": "code",
   "execution_count": null,
   "metadata": {},
   "outputs": [],
   "source": [
    "%pip install python-dotenv -q\n",
    "%pip install SPARQLWrapper -q\n",
    "%pip install pandas -q\n",
    "%pip install neo4j -q"
   ]
  },
  {
   "cell_type": "markdown",
   "metadata": {},
   "source": [
    "# Exploring data"
   ]
  },
  {
   "cell_type": "code",
   "execution_count": 40,
   "metadata": {},
   "outputs": [
    {
     "name": "stdout",
     "output_type": "stream",
     "text": [
      "Mars\tRoman god of war, guardian of agriculture\n",
      "\thttp://www.wikidata.org/entity/Q198\n",
      "\thttp://www.wikidata.org/entity/Q11451\n",
      "Ceres\tRoman goddess of agriculture\n",
      "\thttp://www.wikidata.org/entity/Q11451\n",
      "\thttp://www.wikidata.org/entity/Q964401\n",
      "\thttp://www.wikidata.org/entity/Q1956046\n",
      "\thttp://www.wikidata.org/entity/Q2995529\n",
      "Gaia\tGreek primordial deity, the personification of the Earth\n",
      "\thttp://www.wikidata.org/entity/Q964401\n",
      "Juno\tancient Roman goddess\n",
      "\thttp://www.wikidata.org/entity/Q8445\n",
      "\thttp://www.wikidata.org/entity/Q42008\n",
      "\thttp://www.wikidata.org/entity/Q866081\n",
      "\thttp://www.wikidata.org/entity/Q14819852\n",
      "Minerva\tRoman goddess of wisdom and sponsor of arts, trade, and defense\n",
      "\thttp://www.wikidata.org/entity/Q37226\n",
      "\thttp://www.wikidata.org/entity/Q49757\n",
      "\thttp://www.wikidata.org/entity/Q1294787\n",
      "\thttp://www.wikidata.org/entity/Q43109919\n"
     ]
    }
   ],
   "source": [
    "from SPARQLWrapper import SPARQLWrapper, JSON\n",
    "\n",
    "sparql = SPARQLWrapper(\"https://query.wikidata.org/sparql\")\n",
    "\n",
    "# P31 instance of\n",
    "# Q11688446 roman deity\n",
    "# P2925 domain of saint or deity\n",
    "sparql.setQuery(\"\"\"\n",
    "SELECT ?romainDeity ?romainDeityLabel ?romainDeityDescription (group_concat(?domainOfSaint;separator=\";\") as ?domainsOfSaint) {\n",
    "  ?romainDeity wdt:P31 wd:Q11688446;\n",
    "  wdt:P2925  ?domainOfSaint .\n",
    "  SERVICE wikibase:label { bd:serviceParam wikibase:language \"[AUTO_LANGUAGE],en\". }\n",
    "}\n",
    "GROUP BY ?romainDeity ?romainDeityLabel ?romainDeityDescription\n",
    "LIMIT 5\n",
    "\"\"\")\n",
    "\n",
    "sparql.setReturnFormat(JSON)\n",
    "results = sparql.query().convert()\n",
    "\n",
    "for row in results[\"results\"][\"bindings\"]:\n",
    "    # We want the \"value\" attribute of the \"comment\" field\n",
    "    \n",
    "    title = row[\"romainDeityLabel\"][\"value\"]\n",
    "    if ('romainDeityDescription' in row):\n",
    "      title += \"\\t\" + row['romainDeityDescription']['value']\n",
    "    \n",
    "    print(title)    \n",
    "    domains = row['domainsOfSaint']['value'].split(';')    \n",
    "    if (domains):\n",
    "      for domain in domains:\n",
    "          print(\"\\t\" + domain)\n",
    "    \n",
    "pass"
   ]
  },
  {
   "cell_type": "code",
   "execution_count": null,
   "metadata": {},
   "outputs": [],
   "source": [
    "from SPARQLWrapper import SPARQLWrapper, JSON\n",
    "\n",
    "sparql = SPARQLWrapper(\"https://query.wikidata.org/sparql\")\n",
    "\n",
    "# P2925 domain of saint or deity\n",
    "sparql.setQuery(\"\"\"\n",
    "SELECT DISTINCT ?value ?valueLabel\n",
    "WHERE \n",
    "{\n",
    "  ?item wdt:P2925 ?value\n",
    "  SERVICE wikibase:label { bd:serviceParam wikibase:language \"[AUTO_LANGUAGE],en\". }\n",
    "}\n",
    "LIMIT 100\n",
    "\"\"\")\n",
    "\n",
    "sparql.setReturnFormat(JSON)\n",
    "results = sparql.query().convert()\n",
    "\n",
    "for row in results[\"results\"][\"bindings\"]:\n",
    "    # We want the \"value\" attribute of the \"comment\" field\n",
    "    \n",
    "    title = row['valueLabel']['value']\n",
    "    print(title)\n",
    "    \n",
    "\n",
    "    \n",
    "pass"
   ]
  },
  {
   "cell_type": "code",
   "execution_count": null,
   "metadata": {},
   "outputs": [],
   "source": [
    "# print(results)\n",
    "\n",
    "# import pandas as pd\n",
    "\n",
    "# df = pd.json_normalize(results['results']['bindings'])\n",
    "# df\n",
    "\n",
    "# import pandas as pd\n",
    "\n",
    "# results_df = pd.io.json.json_normalize(results['results']['bindings'])\n",
    "# results_df[['romainDeityLabel.value', 'romainDeity.value', 'romainDeityDescription.value', 'domainOrSaints.value']]\n",
    "\n",
    "\n",
    "# df[['romainDeity.value', 'romainDeityLabel.value', 'romainDeityDescription.value']]\n",
    "# df.sort_values(by=['itemLabel.value'])[['item.value', 'itemLabel.value', 'itemDescription.value']]"
   ]
  },
  {
   "cell_type": "markdown",
   "metadata": {},
   "source": [
    "# Fetch all war deities\n"
   ]
  },
  {
   "cell_type": "code",
   "execution_count": 142,
   "metadata": {},
   "outputs": [
    {
     "name": "stdout",
     "output_type": "stream",
     "text": [
      "Mars: http://www.wikidata.org/entity/Q112\n",
      " - http://www.wikidata.org/entity/Q198\n",
      " - http://www.wikidata.org/entity/Q11451\n",
      "Ares: http://www.wikidata.org/entity/Q40901\n",
      " - http://www.wikidata.org/entity/Q198\n",
      "Horus: http://www.wikidata.org/entity/Q84122\n",
      " - http://www.wikidata.org/entity/Q527\n",
      " - http://www.wikidata.org/entity/Q11573140\n",
      "Minerva: http://www.wikidata.org/entity/Q126916\n",
      " - http://www.wikidata.org/entity/Q37226\n",
      " - http://www.wikidata.org/entity/Q49757\n",
      " - http://www.wikidata.org/entity/Q1294787\n",
      " - http://www.wikidata.org/entity/Q43109919\n",
      "Astarte: http://www.wikidata.org/entity/Q130274\n",
      " - http://www.wikidata.org/entity/Q198\n",
      " - http://www.wikidata.org/entity/Q964401\n",
      " - http://www.wikidata.org/entity/Q4042967\n",
      "Seth: http://www.wikidata.org/entity/Q131795\n",
      " - http://www.wikidata.org/entity/Q198\n",
      " - http://www.wikidata.org/entity/Q79871\n",
      " - http://www.wikidata.org/entity/Q124490\n",
      " - http://www.wikidata.org/entity/Q182878\n",
      " - http://www.wikidata.org/entity/Q473741\n",
      " - http://www.wikidata.org/entity/Q1787424\n",
      "Wadjet: http://www.wikidata.org/entity/Q146007\n",
      " - http://www.wikidata.org/entity/Q463871\n",
      "Tyr: http://www.wikidata.org/entity/Q172713\n",
      " - http://www.wikidata.org/entity/Q198\n",
      " - http://www.wikidata.org/entity/Q5167661\n",
      "Huitzilopochtli: http://www.wikidata.org/entity/Q219412\n",
      " - http://www.wikidata.org/entity/Q198\n",
      " - http://www.wikidata.org/entity/Q33741\n",
      "Erra: http://www.wikidata.org/entity/Q290861\n",
      " - http://www.wikidata.org/entity/Q1096108\n"
     ]
    }
   ],
   "source": [
    "\n",
    "# P31 instance of\n",
    "# Q41863069 war deity\n",
    "sparql.setQuery(\"\"\"\n",
    "SELECT ?wargod ?wargodLabel (group_concat(?domainOfSaint;separator=\";\") as ?domainsOfSaint) {\n",
    "  ?wargod wdt:P31 wd:Q41863069;\n",
    "  wdt:P2925  ?domainOfSaint\n",
    "  SERVICE wikibase:label { bd:serviceParam wikibase:language \"[AUTO_LANGUAGE],en\". }\n",
    "}\n",
    "GROUP BY ?wargod ?wargodLabel\n",
    "\"\"\")\n",
    "\n",
    "sparql.setReturnFormat(JSON)\n",
    "results = sparql.query().convert()\n",
    "\n",
    "print_limit = 10\n",
    "for row in results[\"results\"][\"bindings\"][:print_limit]:\n",
    "  print(row[\"wargodLabel\"][\"value\"] + \": \" + row[\"wargod\"]['value'])  \n",
    "  \n",
    "  domains = row['domainsOfSaint']['value'].split(';')    \n",
    "  if (domains):\n",
    "    for domain in domains:\n",
    "        print(\" - \" + domain)\n",
    "  "
   ]
  },
  {
   "cell_type": "markdown",
   "metadata": {},
   "source": [
    "## Neo4j"
   ]
  },
  {
   "cell_type": "code",
   "execution_count": 17,
   "metadata": {},
   "outputs": [],
   "source": [
    "import os\n",
    "from neo4j import GraphDatabase\n",
    "from dotenv import load_dotenv\n",
    "\n",
    "load_dotenv()\n",
    "url = os.getenv('NEO4J_BOLT_URL')\n",
    "user = os.getenv('NEO4J_USERNAME')\n",
    "password = os.getenv('NEO4J_PASSWORD')\n",
    "\n",
    "driver = GraphDatabase.driver(url, auth=(user,password))"
   ]
  },
  {
   "cell_type": "code",
   "execution_count": 137,
   "metadata": {},
   "outputs": [],
   "source": [
    "# Delete all nodes & relationships\n",
    "with driver.session() as session:\n",
    "    session.run(\"MATCH (n) DETACH DELETE n\")"
   ]
  },
  {
   "cell_type": "code",
   "execution_count": null,
   "metadata": {},
   "outputs": [],
   "source": [
    "with driver.session() as session:  \n",
    "  for row in results[\"results\"][\"bindings\"]:\n",
    "      # We want the \"value\" attribute of the \"comment\" field\n",
    "      print(row[\"wargod\"]['value'] + \"\\t\" + row[\"wargodLabel\"][\"value\"])\n",
    "      \n",
    "      session.run(\"CREATE (g:God { name: $name, entity: $entity}) RETURN g\", \n",
    "                  name=row[\"wargodLabel\"][\"value\"], \n",
    "                  entity=row[\"wargod\"]['value'])\n",
    "      \n",
    "      domains = row['domainsOfSaint']['value'].split(';')    \n",
    "      if (domains):\n",
    "        for domain in domains:\n",
    "            print(\"\\t\" + domain)\n",
    "            \n",
    "            session.run(\"MERGE (d:Domain { entity: $entity}) RETURN d\", entity=domain)\n",
    "            \n",
    "              \n",
    "            session.run(\"MATCH (g2:God {entity: $god_entity}), (d2:Domain {entity: $domain_entity}) MERGE (g2)-[r:GOD_OF]->(d2)\",\n",
    "                        god_entity=row[\"wargod\"]['value'],\n",
    "                        domain_entity=domain)"
   ]
  }
 ],
 "metadata": {
  "kernelspec": {
   "display_name": "Python 3.10.6 64-bit",
   "language": "python",
   "name": "python3"
  },
  "language_info": {
   "codemirror_mode": {
    "name": "ipython",
    "version": 3
   },
   "file_extension": ".py",
   "mimetype": "text/x-python",
   "name": "python",
   "nbconvert_exporter": "python",
   "pygments_lexer": "ipython3",
   "version": "3.10.6"
  },
  "orig_nbformat": 4,
  "vscode": {
   "interpreter": {
    "hash": "916dbcbb3f70747c44a77c7bcd40155683ae19c65e1c03b4aa3499c5328201f1"
   }
  }
 },
 "nbformat": 4,
 "nbformat_minor": 2
}
